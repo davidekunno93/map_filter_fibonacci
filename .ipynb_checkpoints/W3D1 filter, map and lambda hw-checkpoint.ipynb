{
 "cells": [
  {
   "cell_type": "code",
   "execution_count": null,
   "id": "483272e1",
   "metadata": {},
   "outputs": [],
   "source": [
    "# Exercise #1 - Filter out all of the empty strings from the list below\n",
    "\n",
    "def not_empty(string):\n",
    "    string = string.strip()\n",
    "    if string:\n",
    "        return True\n",
    "    return False\n",
    "\n",
    "list(filter(not_empty, places))"
   ]
  },
  {
   "cell_type": "code",
   "execution_count": 2,
   "id": "5a405a81",
   "metadata": {},
   "outputs": [
    {
     "name": "stdout",
     "output_type": "stream",
     "text": [
      "['Victor aNisimov', 'Gary A.J. Bernstein', 'Joel Carter', 'Andrew P. Garfield', 'David hassELHOFF']\n"
     ]
    }
   ],
   "source": [
    "# Exercise #2 - Write an anonymous function that sorts this list by the last name...\n",
    "\n",
    "author = [\"Joel Carter\", \"Victor aNisimov\", \"Andrew P. Garfield\",\"David hassELHOFF\",\"Gary A.J. Bernstein\"]\n",
    "\n",
    "# procedure to convert to anon function\n",
    "def lname(string):\n",
    "    string_list = string.lower().split()\n",
    "    return string_list[-1][0]\n",
    "    \n",
    "author.sort(key=lambda string : string.lower().split()[-1][0])\n",
    "print(author)"
   ]
  },
  {
   "cell_type": "code",
   "execution_count": null,
   "id": "e1741339",
   "metadata": {},
   "outputs": [],
   "source": [
    "# Exercise #3 - Convert the list below from Celsius to Farhenheit, using the map function with a lambda..."
   ]
  }
 ],
 "metadata": {
  "kernelspec": {
   "display_name": "Python 3 (ipykernel)",
   "language": "python",
   "name": "python3"
  },
  "language_info": {
   "codemirror_mode": {
    "name": "ipython",
    "version": 3
   },
   "file_extension": ".py",
   "mimetype": "text/x-python",
   "name": "python",
   "nbconvert_exporter": "python",
   "pygments_lexer": "ipython3",
   "version": "3.10.9"
  }
 },
 "nbformat": 4,
 "nbformat_minor": 5
}
