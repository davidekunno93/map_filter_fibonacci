{
 "cells": [
  {
   "cell_type": "code",
   "execution_count": null,
   "id": "6cc18d2b",
   "metadata": {},
   "outputs": [],
   "source": [
    "# Exercise #1 - Filter out all of the empty strings from the list below\n",
    "\n",
    "def not_empty(string):\n",
    "    string = string.strip()\n",
    "    if string:\n",
    "        return True\n",
    "    return False\n",
    "\n",
    "list(filter(not_empty, places))"
   ]
  },
  {
   "cell_type": "code",
   "execution_count": 2,
   "id": "f9d40f7c",
   "metadata": {},
   "outputs": [
    {
     "name": "stdout",
     "output_type": "stream",
     "text": [
      "['Victor aNisimov', 'Gary A.J. Bernstein', 'Joel Carter', 'Andrew P. Garfield', 'David hassELHOFF']\n"
     ]
    }
   ],
   "source": [
    "# Exercise #2 - Write an anonymous function that sorts this list by the last name...\n",
    "\n",
    "author = [\"Joel Carter\", \"Victor aNisimov\", \"Andrew P. Garfield\",\"David hassELHOFF\",\"Gary A.J. Bernstein\"]\n",
    "\n",
    "# procedure to convert to anon function\n",
    "def lname(string):\n",
    "    string_list = string.lower().split()\n",
    "    return string_list[-1][0]\n",
    "    \n",
    "author.sort(key=lambda string : string.lower().split()[-1][0])\n",
    "print(author)"
   ]
  },
  {
   "cell_type": "code",
   "execution_count": null,
   "id": "7c027cac",
   "metadata": {},
   "outputs": [],
   "source": [
    "# Exercise #3 - Convert the list below from Celsius to Farhenheit, using the map function with a lambda...\n",
    "\n",
    "# F = (9/5)*C + 32\n",
    "places = [('Nashua',32),(\"Boston\",12),(\"Los Angelos\",44),(\"Miami\",29)]\n",
    "\n",
    "# procedure to make into anon function\n",
    "def farhenheit(tup):\n",
    "    return (tup[0], (9/5)*tup[1] + 32)\n",
    "\n",
    "list(map(lambda tup : (tup[0], (9/5)*tup[1] + 32), places))"
   ]
  },
  {
   "cell_type": "code",
   "execution_count": 15,
   "id": "31a11544",
   "metadata": {},
   "outputs": [
    {
     "name": "stdout",
     "output_type": "stream",
     "text": [
      "Iteration 0: 1, Iteration 1: 1, Iteration 2: 2, Iteration 3: 3, Iteration 4: 5, "
     ]
    }
   ],
   "source": [
    "# Exercise #4 - Write a recursion function to perform the fibonacci sequence up to the number passed in.\n",
    "\n",
    "def fibo_print(x): \n",
    "    def fibo(i):\n",
    "        if i <= 1:\n",
    "            return 1\n",
    "        else:\n",
    "            return fibo(i-1) + fibo(i-2)\n",
    "        \n",
    "    for x in range(5):\n",
    "        print(f\"Iteration {x}: {fibo(x)}\", end=\", \")\n",
    "        \n",
    "fibo_print(5)"
   ]
  }
 ],
 "metadata": {
  "kernelspec": {
   "display_name": "Python 3 (ipykernel)",
   "language": "python",
   "name": "python3"
  },
  "language_info": {
   "codemirror_mode": {
    "name": "ipython",
    "version": 3
   },
   "file_extension": ".py",
   "mimetype": "text/x-python",
   "name": "python",
   "nbconvert_exporter": "python",
   "pygments_lexer": "ipython3",
   "version": "3.10.9"
  }
 },
 "nbformat": 4,
 "nbformat_minor": 5
}
